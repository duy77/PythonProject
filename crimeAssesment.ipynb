{
 "cells": [
  {
   "cell_type": "code",
   "execution_count": 1,
   "metadata": {},
   "outputs": [
    {
     "name": "stdout",
     "output_type": "stream",
     "text": [
      "\n",
      "Main Menu:\n",
      "1. Check violent crime rate by neighborhood\n",
      "2. Display top 5 safest neighborhoods for violent crimes\n",
      "3. Exit and show incident zones safety\n"
     ]
    },
    {
     "name": "stdin",
     "output_type": "stream",
     "text": [
      "Enter your choice (1-3):  1\n",
      "Enter a neighborhood:  brookline\n"
     ]
    },
    {
     "name": "stdout",
     "output_type": "stream",
     "text": [
      "The violent crime rate in brookline is 0 incidents.\n",
      "\n",
      "Main Menu:\n",
      "1. Check violent crime rate by neighborhood\n",
      "2. Display top 5 safest neighborhoods for violent crimes\n",
      "3. Exit and show incident zones safety\n"
     ]
    },
    {
     "name": "stdin",
     "output_type": "stream",
     "text": [
      "Enter your choice (1-3):  3\n"
     ]
    },
    {
     "name": "stdout",
     "output_type": "stream",
     "text": [
      "Incident Zones from most dangerous to safest based on violent incidents:\n",
      "Zone 3: 1055 incidents\n",
      "Zone 5: 830 incidents\n",
      "Zone 1: 626 incidents\n",
      "Zone 4: 506 incidents\n",
      "Zone 2: 457 incidents\n",
      "Zone OUTSIDE: 2 incidents\n"
     ]
    }
   ],
   "source": [
    "import pandas as pd\n",
    "\n",
    "# Load the data\n",
    "crime_data = pd.read_csv('crimeBlots.tsv', sep='\\t')\n",
    "crime_data['INCIDENTNEIGHBORHOOD'] = crime_data['INCIDENTNEIGHBORHOOD'].str.lower()\n",
    "crime_data['CRIME_CODE'] = crime_data['OFFENSES'].str.extract(r'(\\d+)').astype(float)\n",
    "violent_crime_codes = [3502, 2702]  # Extend this list with other violent crime codes as needed\n",
    "violent_crimes = crime_data[crime_data['CRIME_CODE'].isin(violent_crime_codes)]\n",
    "\n",
    "def violent_crime_rate_neighborhood(neighborhood):\n",
    "    neighborhood_data = violent_crimes[violent_crimes['INCIDENTNEIGHBORHOOD'] == neighborhood.lower()]\n",
    "    return len(neighborhood_data)\n",
    "\n",
    "def top_5_safest_neighborhoods_violent():\n",
    "    violent_counts_by_neighborhood = violent_crimes['INCIDENTNEIGHBORHOOD'].value_counts()\n",
    "    all_neighborhoods = set(crime_data['INCIDENTNEIGHBORHOOD'].astype(str))\n",
    "    missing_neighborhoods = all_neighborhoods - set(violent_counts_by_neighborhood.index)\n",
    "    for neighborhood in missing_neighborhoods:\n",
    "        violent_counts_by_neighborhood[neighborhood] = 0\n",
    "    safest_neighborhoods = violent_counts_by_neighborhood.nsmallest(5)\n",
    "    return safest_neighborhoods.astype(int)  # Ensures counts are integers\n",
    "\n",
    "def zones_safety_violent():\n",
    "    zone_safety = violent_crimes['INCIDENTZONE'].value_counts()\n",
    "    outside_zone_count = zone_safety[~zone_safety.index.isin(map(str, range(1, 7)))].sum()\n",
    "    zone_safety = zone_safety[zone_safety.index.isin(map(str, range(1, 7)))]\n",
    "    zone_safety = zone_safety.sort_values(ascending=False)\n",
    "    zone_safety['OUTSIDE'] = outside_zone_count\n",
    "    return zone_safety\n",
    "\n",
    "def main_menu():\n",
    "    while True:\n",
    "        print(\"\\nMain Menu:\")\n",
    "        print(\"1. Check violent crime rate by neighborhood\")\n",
    "        print(\"2. Display top 5 safest neighborhoods for violent crimes\")\n",
    "        print(\"3. Exit and show incident zones safety\")\n",
    "        choice = input(\"Enter your choice (1-3): \")\n",
    "        \n",
    "        if choice == '1':\n",
    "            neighborhood = input(\"Enter a neighborhood: \")\n",
    "            violent_count = violent_crime_rate_neighborhood(neighborhood)\n",
    "            print(f\"The violent crime rate in {neighborhood} is {violent_count} incidents.\")\n",
    "        elif choice == '2':\n",
    "            safest = top_5_safest_neighborhoods_violent()\n",
    "            print(\"Top 5 Safest Neighborhoods based on violent crimes:\")\n",
    "            for name, count in safest.items():\n",
    "                # Ensure name is treated as string and formatted properly\n",
    "                print(f\"{str(name).title()}: {count} violent incidents\")\n",
    "\n",
    "        elif choice == '3':\n",
    "            zones = zones_safety_violent()\n",
    "            print(\"Incident Zones from most dangerous to safest based on violent incidents:\")\n",
    "            for zone, count in zones.items():\n",
    "                print(f\"Zone {zone}: {count} incidents\")\n",
    "            break\n",
    "        else:\n",
    "            print(\"Invalid choice. Please enter 1, 2, or 3.\")\n",
    "\n",
    "# Run the main menu function\n",
    "if __name__ == '__main__':\n",
    "    main_menu()\n"
   ]
  },
  {
   "cell_type": "code",
   "execution_count": null,
   "metadata": {},
   "outputs": [],
   "source": []
  },
  {
   "cell_type": "code",
   "execution_count": null,
   "metadata": {},
   "outputs": [],
   "source": []
  }
 ],
 "metadata": {
  "kernelspec": {
   "display_name": "Python 3",
   "language": "python",
   "name": "python3"
  },
  "language_info": {
   "codemirror_mode": {
    "name": "ipython",
    "version": 3
   },
   "file_extension": ".py",
   "mimetype": "text/x-python",
   "name": "python",
   "nbconvert_exporter": "python",
   "pygments_lexer": "ipython3",
   "version": "3.8.3"
  }
 },
 "nbformat": 4,
 "nbformat_minor": 4
}
